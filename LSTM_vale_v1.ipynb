{
 "cells": [
  {
   "cell_type": "code",
   "execution_count": 1,
   "metadata": {
    "id": "si3nBEjPG14Y"
   },
   "outputs": [],
   "source": [
    "from datetime import datetime\n",
    "import yfinance as yf\n",
    "from dateutil.relativedelta import relativedelta\n",
    "import calendar\n",
    "import joblib"
   ]
  },
  {
   "cell_type": "code",
   "execution_count": 2,
   "metadata": {
    "id": "jY0sKjGfNOrh"
   },
   "outputs": [],
   "source": [
    "import numpy as np\n",
    "import pandas as pd\n",
    "import matplotlib.pyplot as plt\n",
    "\n",
    "from sklearn.preprocessing import MinMaxScaler\n",
    "from sklearn.metrics import mean_absolute_error, mean_squared_error, mean_absolute_percentage_error\n",
    "\n",
    "from tensorflow.keras.models import Sequential\n",
    "from tensorflow.keras.layers import LSTM, Dense\n"
   ]
  },
  {
   "cell_type": "code",
   "execution_count": null,
   "metadata": {
    "id": "wsaGuJicNRG4"
   },
   "outputs": [],
   "source": []
  },
  {
   "cell_type": "code",
   "execution_count": 3,
   "metadata": {
    "colab": {
     "base_uri": "https://localhost:8080/"
    },
    "id": "nbDcGh5hGwxe",
    "outputId": "b596a83b-3d3b-4f50-ea22-c55a19a9c22e"
   },
   "outputs": [
    {
     "name": "stderr",
     "output_type": "stream",
     "text": [
      "/var/folders/9l/ssjsy50d6vqb5mscfhwxj6h80000gp/T/ipykernel_75687/2965056343.py:5: FutureWarning: YF.download() has changed argument auto_adjust default to True\n",
      "  df = yf.download(symbol, start=start_date, end=end_date)\n",
      "[*********************100%***********************]  1 of 1 completed\n"
     ]
    }
   ],
   "source": [
    "symbol = 'VALE'\n",
    "start_date = '2018-01-01'\n",
    "end_date = '2025-06-30'\n",
    "\n",
    "df = yf.download(symbol, start=start_date, end=end_date)"
   ]
  },
  {
   "cell_type": "code",
   "execution_count": 4,
   "metadata": {
    "colab": {
     "base_uri": "https://localhost:8080/",
     "height": 486
    },
    "id": "gCtrBiycJPCw",
    "outputId": "aece7c63-b773-48ba-c528-3b9b6b762bff"
   },
   "outputs": [
    {
     "data": {
      "text/html": [
       "<div>\n",
       "<style scoped>\n",
       "    .dataframe tbody tr th:only-of-type {\n",
       "        vertical-align: middle;\n",
       "    }\n",
       "\n",
       "    .dataframe tbody tr th {\n",
       "        vertical-align: top;\n",
       "    }\n",
       "\n",
       "    .dataframe thead tr th {\n",
       "        text-align: left;\n",
       "    }\n",
       "\n",
       "    .dataframe thead tr:last-of-type th {\n",
       "        text-align: right;\n",
       "    }\n",
       "</style>\n",
       "<table border=\"1\" class=\"dataframe\">\n",
       "  <thead>\n",
       "    <tr>\n",
       "      <th>Price</th>\n",
       "      <th>Close</th>\n",
       "      <th>High</th>\n",
       "      <th>Low</th>\n",
       "      <th>Open</th>\n",
       "      <th>Volume</th>\n",
       "    </tr>\n",
       "    <tr>\n",
       "      <th>Ticker</th>\n",
       "      <th>VALE</th>\n",
       "      <th>VALE</th>\n",
       "      <th>VALE</th>\n",
       "      <th>VALE</th>\n",
       "      <th>VALE</th>\n",
       "    </tr>\n",
       "    <tr>\n",
       "      <th>Date</th>\n",
       "      <th></th>\n",
       "      <th></th>\n",
       "      <th></th>\n",
       "      <th></th>\n",
       "      <th></th>\n",
       "    </tr>\n",
       "  </thead>\n",
       "  <tbody>\n",
       "    <tr>\n",
       "      <th>2018-01-02</th>\n",
       "      <td>7.465320</td>\n",
       "      <td>7.482857</td>\n",
       "      <td>7.313324</td>\n",
       "      <td>7.336708</td>\n",
       "      <td>19189400</td>\n",
       "    </tr>\n",
       "    <tr>\n",
       "      <th>2018-01-03</th>\n",
       "      <td>7.512088</td>\n",
       "      <td>7.523780</td>\n",
       "      <td>7.412707</td>\n",
       "      <td>7.482858</td>\n",
       "      <td>20449600</td>\n",
       "    </tr>\n",
       "    <tr>\n",
       "      <th>2018-01-04</th>\n",
       "      <td>7.500396</td>\n",
       "      <td>7.652392</td>\n",
       "      <td>7.494550</td>\n",
       "      <td>7.617316</td>\n",
       "      <td>22033100</td>\n",
       "    </tr>\n",
       "    <tr>\n",
       "      <th>2018-01-05</th>\n",
       "      <td>7.652393</td>\n",
       "      <td>7.652393</td>\n",
       "      <td>7.441937</td>\n",
       "      <td>7.482859</td>\n",
       "      <td>20042800</td>\n",
       "    </tr>\n",
       "    <tr>\n",
       "      <th>2018-01-08</th>\n",
       "      <td>7.786850</td>\n",
       "      <td>7.786850</td>\n",
       "      <td>7.705007</td>\n",
       "      <td>7.751774</td>\n",
       "      <td>17507000</td>\n",
       "    </tr>\n",
       "    <tr>\n",
       "      <th>...</th>\n",
       "      <td>...</td>\n",
       "      <td>...</td>\n",
       "      <td>...</td>\n",
       "      <td>...</td>\n",
       "      <td>...</td>\n",
       "    </tr>\n",
       "    <tr>\n",
       "      <th>2025-06-23</th>\n",
       "      <td>9.180000</td>\n",
       "      <td>9.190000</td>\n",
       "      <td>9.010000</td>\n",
       "      <td>9.050000</td>\n",
       "      <td>38963300</td>\n",
       "    </tr>\n",
       "    <tr>\n",
       "      <th>2025-06-24</th>\n",
       "      <td>9.210000</td>\n",
       "      <td>9.210000</td>\n",
       "      <td>9.120000</td>\n",
       "      <td>9.180000</td>\n",
       "      <td>34861500</td>\n",
       "    </tr>\n",
       "    <tr>\n",
       "      <th>2025-06-25</th>\n",
       "      <td>9.060000</td>\n",
       "      <td>9.120000</td>\n",
       "      <td>8.970000</td>\n",
       "      <td>9.050000</td>\n",
       "      <td>39327000</td>\n",
       "    </tr>\n",
       "    <tr>\n",
       "      <th>2025-06-26</th>\n",
       "      <td>9.470000</td>\n",
       "      <td>9.500000</td>\n",
       "      <td>9.270000</td>\n",
       "      <td>9.280000</td>\n",
       "      <td>87645600</td>\n",
       "    </tr>\n",
       "    <tr>\n",
       "      <th>2025-06-27</th>\n",
       "      <td>9.740000</td>\n",
       "      <td>9.740000</td>\n",
       "      <td>9.480000</td>\n",
       "      <td>9.510000</td>\n",
       "      <td>66579000</td>\n",
       "    </tr>\n",
       "  </tbody>\n",
       "</table>\n",
       "<p>1882 rows × 5 columns</p>\n",
       "</div>"
      ],
      "text/plain": [
       "Price          Close      High       Low      Open    Volume\n",
       "Ticker          VALE      VALE      VALE      VALE      VALE\n",
       "Date                                                        \n",
       "2018-01-02  7.465320  7.482857  7.313324  7.336708  19189400\n",
       "2018-01-03  7.512088  7.523780  7.412707  7.482858  20449600\n",
       "2018-01-04  7.500396  7.652392  7.494550  7.617316  22033100\n",
       "2018-01-05  7.652393  7.652393  7.441937  7.482859  20042800\n",
       "2018-01-08  7.786850  7.786850  7.705007  7.751774  17507000\n",
       "...              ...       ...       ...       ...       ...\n",
       "2025-06-23  9.180000  9.190000  9.010000  9.050000  38963300\n",
       "2025-06-24  9.210000  9.210000  9.120000  9.180000  34861500\n",
       "2025-06-25  9.060000  9.120000  8.970000  9.050000  39327000\n",
       "2025-06-26  9.470000  9.500000  9.270000  9.280000  87645600\n",
       "2025-06-27  9.740000  9.740000  9.480000  9.510000  66579000\n",
       "\n",
       "[1882 rows x 5 columns]"
      ]
     },
     "execution_count": 4,
     "metadata": {},
     "output_type": "execute_result"
    }
   ],
   "source": [
    "df"
   ]
  },
  {
   "cell_type": "code",
   "execution_count": 5,
   "metadata": {
    "colab": {
     "base_uri": "https://localhost:8080/"
    },
    "id": "c7T3ZoS_Hinp",
    "outputId": "491bb8bd-d030-44b5-b82a-048d2302b3ea"
   },
   "outputs": [
    {
     "name": "stdout",
     "output_type": "stream",
     "text": [
      "Total de meses entre as datas: 89\n"
     ]
    }
   ],
   "source": [
    "# Converte strings para objetos datetime\n",
    "start = datetime.strptime(start_date, '%Y-%m-%d')\n",
    "end = datetime.strptime(end_date, '%Y-%m-%d')\n",
    "\n",
    "# Calcula o número total de meses\n",
    "total_months = (end.year - start.year) * 12 + (end.month - start.month)\n",
    "\n",
    "print(f'Total de meses entre as datas: {total_months}')"
   ]
  },
  {
   "cell_type": "code",
   "execution_count": 6,
   "metadata": {
    "id": "HSu2Z1VtHo-r"
   },
   "outputs": [],
   "source": [
    "total_meses_trunc = int(round(total_months * 0.7,0))"
   ]
  },
  {
   "cell_type": "code",
   "execution_count": 7,
   "metadata": {
    "colab": {
     "base_uri": "https://localhost:8080/"
    },
    "id": "em2ijtPfICrh",
    "outputId": "aaaf1bc3-4a50-449b-c7ce-46b1a71ee565"
   },
   "outputs": [
    {
     "data": {
      "text/plain": [
       "62"
      ]
     },
     "execution_count": 7,
     "metadata": {},
     "output_type": "execute_result"
    }
   ],
   "source": [
    "total_meses_trunc"
   ]
  },
  {
   "cell_type": "code",
   "execution_count": 8,
   "metadata": {
    "colab": {
     "base_uri": "https://localhost:8080/"
    },
    "id": "H4mdwiL5IXZf",
    "outputId": "9b76f3f2-8217-4d42-e776-63d41fa798a5"
   },
   "outputs": [
    {
     "name": "stdout",
     "output_type": "stream",
     "text": [
      "Nova data (último dia do mês): 2023-03-31\n"
     ]
    }
   ],
   "source": [
    "#from datetime import datetime\n",
    "#\n",
    "#\n",
    "\n",
    "#start_date = '2018-01-01'\n",
    "\n",
    "# Converte string para objeto datetime\n",
    "start = datetime.strptime(start_date, '%Y-%m-%d')\n",
    "\n",
    "# Adiciona 62 meses\n",
    "new_date = start + relativedelta(months=+62)\n",
    "\n",
    "# Ajusta para o último dia do mês\n",
    "last_day = calendar.monthrange(new_date.year, new_date.month)[1]\n",
    "final_date = new_date.replace(day=last_day)\n",
    "\n",
    "# Exibe o resultado formatado\n",
    "print('Nova data (último dia do mês):', final_date.strftime('%Y-%m-%d'))\n"
   ]
  },
  {
   "cell_type": "code",
   "execution_count": 9,
   "metadata": {
    "colab": {
     "base_uri": "https://localhost:8080/"
    },
    "id": "ECNRBRMTIxzX",
    "outputId": "df0834d1-173e-4081-f72e-53777114da1a"
   },
   "outputs": [
    {
     "data": {
      "text/plain": [
       "datetime.datetime(2023, 3, 1, 0, 0)"
      ]
     },
     "execution_count": 9,
     "metadata": {},
     "output_type": "execute_result"
    }
   ],
   "source": [
    "new_date"
   ]
  },
  {
   "cell_type": "code",
   "execution_count": 10,
   "metadata": {
    "colab": {
     "base_uri": "https://localhost:8080/"
    },
    "id": "_ehkfut8I5Of",
    "outputId": "8f14ecda-b558-4767-eecc-d9539e52dddd"
   },
   "outputs": [
    {
     "data": {
      "text/plain": [
       "datetime.datetime(2023, 3, 31, 0, 0)"
      ]
     },
     "execution_count": 10,
     "metadata": {},
     "output_type": "execute_result"
    }
   ],
   "source": [
    "final_date"
   ]
  },
  {
   "cell_type": "code",
   "execution_count": 11,
   "metadata": {
    "id": "3dwU6oegIepY"
   },
   "outputs": [],
   "source": [
    "# Separa treino e teste\n",
    "df_train = df[df.index <= final_date]\n",
    "df_test = df[df.index > final_date]"
   ]
  },
  {
   "cell_type": "code",
   "execution_count": 12,
   "metadata": {
    "colab": {
     "base_uri": "https://localhost:8080/",
     "height": 486
    },
    "id": "GGXhalW-JRiJ",
    "outputId": "010e7fc8-ccca-4688-d6a2-aaf0812338c9"
   },
   "outputs": [
    {
     "data": {
      "text/plain": [
       "(1321, 5)"
      ]
     },
     "execution_count": 12,
     "metadata": {},
     "output_type": "execute_result"
    }
   ],
   "source": [
    "df_train.shape"
   ]
  },
  {
   "cell_type": "code",
   "execution_count": 13,
   "metadata": {
    "colab": {
     "base_uri": "https://localhost:8080/",
     "height": 486
    },
    "id": "E8CoIbfOJTtJ",
    "outputId": "95649034-d215-4b91-d12b-8987d744df08"
   },
   "outputs": [
    {
     "data": {
      "text/html": [
       "<div>\n",
       "<style scoped>\n",
       "    .dataframe tbody tr th:only-of-type {\n",
       "        vertical-align: middle;\n",
       "    }\n",
       "\n",
       "    .dataframe tbody tr th {\n",
       "        vertical-align: top;\n",
       "    }\n",
       "\n",
       "    .dataframe thead tr th {\n",
       "        text-align: left;\n",
       "    }\n",
       "\n",
       "    .dataframe thead tr:last-of-type th {\n",
       "        text-align: right;\n",
       "    }\n",
       "</style>\n",
       "<table border=\"1\" class=\"dataframe\">\n",
       "  <thead>\n",
       "    <tr>\n",
       "      <th>Price</th>\n",
       "      <th>Close</th>\n",
       "      <th>High</th>\n",
       "      <th>Low</th>\n",
       "      <th>Open</th>\n",
       "      <th>Volume</th>\n",
       "    </tr>\n",
       "    <tr>\n",
       "      <th>Ticker</th>\n",
       "      <th>VALE</th>\n",
       "      <th>VALE</th>\n",
       "      <th>VALE</th>\n",
       "      <th>VALE</th>\n",
       "      <th>VALE</th>\n",
       "    </tr>\n",
       "    <tr>\n",
       "      <th>Date</th>\n",
       "      <th></th>\n",
       "      <th></th>\n",
       "      <th></th>\n",
       "      <th></th>\n",
       "      <th></th>\n",
       "    </tr>\n",
       "  </thead>\n",
       "  <tbody>\n",
       "    <tr>\n",
       "      <th>2023-04-03</th>\n",
       "      <td>13.038064</td>\n",
       "      <td>13.079455</td>\n",
       "      <td>12.947005</td>\n",
       "      <td>12.980117</td>\n",
       "      <td>12833500</td>\n",
       "    </tr>\n",
       "    <tr>\n",
       "      <th>2023-04-04</th>\n",
       "      <td>12.624157</td>\n",
       "      <td>12.980117</td>\n",
       "      <td>12.615879</td>\n",
       "      <td>12.947005</td>\n",
       "      <td>26787600</td>\n",
       "    </tr>\n",
       "    <tr>\n",
       "      <th>2023-04-05</th>\n",
       "      <td>12.566211</td>\n",
       "      <td>12.657270</td>\n",
       "      <td>12.417204</td>\n",
       "      <td>12.624157</td>\n",
       "      <td>32733900</td>\n",
       "    </tr>\n",
       "    <tr>\n",
       "      <th>2023-04-06</th>\n",
       "      <td>12.499987</td>\n",
       "      <td>12.557933</td>\n",
       "      <td>12.400648</td>\n",
       "      <td>12.533099</td>\n",
       "      <td>15408600</td>\n",
       "    </tr>\n",
       "    <tr>\n",
       "      <th>2023-04-10</th>\n",
       "      <td>12.723495</td>\n",
       "      <td>12.748330</td>\n",
       "      <td>12.591045</td>\n",
       "      <td>12.615880</td>\n",
       "      <td>11192900</td>\n",
       "    </tr>\n",
       "    <tr>\n",
       "      <th>...</th>\n",
       "      <td>...</td>\n",
       "      <td>...</td>\n",
       "      <td>...</td>\n",
       "      <td>...</td>\n",
       "      <td>...</td>\n",
       "    </tr>\n",
       "    <tr>\n",
       "      <th>2025-06-23</th>\n",
       "      <td>9.180000</td>\n",
       "      <td>9.190000</td>\n",
       "      <td>9.010000</td>\n",
       "      <td>9.050000</td>\n",
       "      <td>38963300</td>\n",
       "    </tr>\n",
       "    <tr>\n",
       "      <th>2025-06-24</th>\n",
       "      <td>9.210000</td>\n",
       "      <td>9.210000</td>\n",
       "      <td>9.120000</td>\n",
       "      <td>9.180000</td>\n",
       "      <td>34861500</td>\n",
       "    </tr>\n",
       "    <tr>\n",
       "      <th>2025-06-25</th>\n",
       "      <td>9.060000</td>\n",
       "      <td>9.120000</td>\n",
       "      <td>8.970000</td>\n",
       "      <td>9.050000</td>\n",
       "      <td>39327000</td>\n",
       "    </tr>\n",
       "    <tr>\n",
       "      <th>2025-06-26</th>\n",
       "      <td>9.470000</td>\n",
       "      <td>9.500000</td>\n",
       "      <td>9.270000</td>\n",
       "      <td>9.280000</td>\n",
       "      <td>87645600</td>\n",
       "    </tr>\n",
       "    <tr>\n",
       "      <th>2025-06-27</th>\n",
       "      <td>9.740000</td>\n",
       "      <td>9.740000</td>\n",
       "      <td>9.480000</td>\n",
       "      <td>9.510000</td>\n",
       "      <td>66579000</td>\n",
       "    </tr>\n",
       "  </tbody>\n",
       "</table>\n",
       "<p>561 rows × 5 columns</p>\n",
       "</div>"
      ],
      "text/plain": [
       "Price           Close       High        Low       Open    Volume\n",
       "Ticker           VALE       VALE       VALE       VALE      VALE\n",
       "Date                                                            \n",
       "2023-04-03  13.038064  13.079455  12.947005  12.980117  12833500\n",
       "2023-04-04  12.624157  12.980117  12.615879  12.947005  26787600\n",
       "2023-04-05  12.566211  12.657270  12.417204  12.624157  32733900\n",
       "2023-04-06  12.499987  12.557933  12.400648  12.533099  15408600\n",
       "2023-04-10  12.723495  12.748330  12.591045  12.615880  11192900\n",
       "...               ...        ...        ...        ...       ...\n",
       "2025-06-23   9.180000   9.190000   9.010000   9.050000  38963300\n",
       "2025-06-24   9.210000   9.210000   9.120000   9.180000  34861500\n",
       "2025-06-25   9.060000   9.120000   8.970000   9.050000  39327000\n",
       "2025-06-26   9.470000   9.500000   9.270000   9.280000  87645600\n",
       "2025-06-27   9.740000   9.740000   9.480000   9.510000  66579000\n",
       "\n",
       "[561 rows x 5 columns]"
      ]
     },
     "execution_count": 13,
     "metadata": {},
     "output_type": "execute_result"
    }
   ],
   "source": [
    "df_test"
   ]
  },
  {
   "cell_type": "code",
   "execution_count": 14,
   "metadata": {
    "id": "nOJ0iwHCNSHd"
   },
   "outputs": [],
   "source": [
    "# Seleciona apenas a coluna de fechamento\n",
    "target_col = 'Close'\n",
    "\n",
    "# Escala os dados entre 0 e 1\n",
    "scaler = MinMaxScaler()\n",
    "df_train_scaled = scaler.fit_transform(df_train[[target_col]])\n",
    "df_test_scaled = scaler.transform(df_test[[target_col]])\n",
    "joblib.dump(scaler, \"app/models/scaler.joblib\")\n",
    "# Parâmetros\n",
    "n_past = 60  # janela: quantos dias anteriores usar\n",
    "n_future =30  # quantos dias à frente queremos prever\n"
   ]
  },
  {
   "cell_type": "code",
   "execution_count": 15,
   "metadata": {
    "id": "9veAkhdiNUJ3"
   },
   "outputs": [],
   "source": [
    "def create_sequences(data, n_past, n_future):\n",
    "    X, y = [], []\n",
    "    for i in range(n_past, len(data) - n_future + 1):\n",
    "        X.append(data[i - n_past:i, 0])\n",
    "        y.append(data[i + n_future - 1:i + n_future, 0])\n",
    "    return np.array(X), np.array(y)\n"
   ]
  },
  {
   "cell_type": "code",
   "execution_count": 16,
   "metadata": {
    "id": "QoGRtu50NWuH"
   },
   "outputs": [],
   "source": [
    "X_train, y_train = create_sequences(df_train_scaled, n_past, n_future)\n",
    "X_test, y_test = create_sequences(df_test_scaled, n_past, n_future)\n",
    "\n",
    "# LSTM espera 3D (amostras, passos de tempo, features)\n",
    "X_train = X_train.reshape((X_train.shape[0], X_train.shape[1], 1))\n",
    "X_test = X_test.reshape((X_test.shape[0], X_test.shape[1], 1))\n"
   ]
  },
  {
   "cell_type": "code",
   "execution_count": 17,
   "metadata": {
    "colab": {
     "base_uri": "https://localhost:8080/"
    },
    "id": "beXLzwmoNYdM",
    "outputId": "aa7fd7d4-d734-40d8-fdec-2fa209c6f803"
   },
   "outputs": [
    {
     "name": "stdout",
     "output_type": "stream",
     "text": [
      "Epoch 1/20\n"
     ]
    },
    {
     "name": "stderr",
     "output_type": "stream",
     "text": [
      "/opt/miniconda3/envs/tc_env/lib/python3.9/site-packages/keras/src/layers/rnn/rnn.py:199: UserWarning: Do not pass an `input_shape`/`input_dim` argument to a layer. When using Sequential models, prefer using an `Input(shape)` object as the first layer in the model instead.\n",
      "  super().__init__(**kwargs)\n"
     ]
    },
    {
     "name": "stdout",
     "output_type": "stream",
     "text": [
      "\u001b[1m70/70\u001b[0m \u001b[32m━━━━━━━━━━━━━━━━━━━━\u001b[0m\u001b[37m\u001b[0m \u001b[1m1s\u001b[0m 8ms/step - loss: 0.1899 - val_loss: 0.1600\n",
      "Epoch 2/20\n",
      "\u001b[1m70/70\u001b[0m \u001b[32m━━━━━━━━━━━━━━━━━━━━\u001b[0m\u001b[37m\u001b[0m \u001b[1m0s\u001b[0m 7ms/step - loss: 0.0359 - val_loss: 0.0300\n",
      "Epoch 3/20\n",
      "\u001b[1m70/70\u001b[0m \u001b[32m━━━━━━━━━━━━━━━━━━━━\u001b[0m\u001b[37m\u001b[0m \u001b[1m1s\u001b[0m 7ms/step - loss: 0.0215 - val_loss: 0.0175\n",
      "Epoch 4/20\n",
      "\u001b[1m70/70\u001b[0m \u001b[32m━━━━━━━━━━━━━━━━━━━━\u001b[0m\u001b[37m\u001b[0m \u001b[1m1s\u001b[0m 7ms/step - loss: 0.0157 - val_loss: 0.0122\n",
      "Epoch 5/20\n",
      "\u001b[1m70/70\u001b[0m \u001b[32m━━━━━━━━━━━━━━━━━━━━\u001b[0m\u001b[37m\u001b[0m \u001b[1m1s\u001b[0m 7ms/step - loss: 0.0144 - val_loss: 0.0165\n",
      "Epoch 6/20\n",
      "\u001b[1m70/70\u001b[0m \u001b[32m━━━━━━━━━━━━━━━━━━━━\u001b[0m\u001b[37m\u001b[0m \u001b[1m1s\u001b[0m 7ms/step - loss: 0.0159 - val_loss: 0.0181\n",
      "Epoch 7/20\n",
      "\u001b[1m70/70\u001b[0m \u001b[32m━━━━━━━━━━━━━━━━━━━━\u001b[0m\u001b[37m\u001b[0m \u001b[1m1s\u001b[0m 7ms/step - loss: 0.0136 - val_loss: 0.0077\n",
      "Epoch 8/20\n",
      "\u001b[1m70/70\u001b[0m \u001b[32m━━━━━━━━━━━━━━━━━━━━\u001b[0m\u001b[37m\u001b[0m \u001b[1m1s\u001b[0m 7ms/step - loss: 0.0132 - val_loss: 0.0101\n",
      "Epoch 9/20\n",
      "\u001b[1m70/70\u001b[0m \u001b[32m━━━━━━━━━━━━━━━━━━━━\u001b[0m\u001b[37m\u001b[0m \u001b[1m1s\u001b[0m 7ms/step - loss: 0.0124 - val_loss: 0.0081\n",
      "Epoch 10/20\n",
      "\u001b[1m70/70\u001b[0m \u001b[32m━━━━━━━━━━━━━━━━━━━━\u001b[0m\u001b[37m\u001b[0m \u001b[1m1s\u001b[0m 7ms/step - loss: 0.0113 - val_loss: 0.0069\n",
      "Epoch 11/20\n",
      "\u001b[1m70/70\u001b[0m \u001b[32m━━━━━━━━━━━━━━━━━━━━\u001b[0m\u001b[37m\u001b[0m \u001b[1m1s\u001b[0m 7ms/step - loss: 0.0115 - val_loss: 0.0203\n",
      "Epoch 12/20\n",
      "\u001b[1m70/70\u001b[0m \u001b[32m━━━━━━━━━━━━━━━━━━━━\u001b[0m\u001b[37m\u001b[0m \u001b[1m1s\u001b[0m 7ms/step - loss: 0.0120 - val_loss: 0.0061\n",
      "Epoch 13/20\n",
      "\u001b[1m70/70\u001b[0m \u001b[32m━━━━━━━━━━━━━━━━━━━━\u001b[0m\u001b[37m\u001b[0m \u001b[1m1s\u001b[0m 7ms/step - loss: 0.0122 - val_loss: 0.0161\n",
      "Epoch 14/20\n",
      "\u001b[1m70/70\u001b[0m \u001b[32m━━━━━━━━━━━━━━━━━━━━\u001b[0m\u001b[37m\u001b[0m \u001b[1m1s\u001b[0m 7ms/step - loss: 0.0119 - val_loss: 0.0059\n",
      "Epoch 15/20\n",
      "\u001b[1m70/70\u001b[0m \u001b[32m━━━━━━━━━━━━━━━━━━━━\u001b[0m\u001b[37m\u001b[0m \u001b[1m1s\u001b[0m 7ms/step - loss: 0.0104 - val_loss: 0.0117\n",
      "Epoch 16/20\n",
      "\u001b[1m70/70\u001b[0m \u001b[32m━━━━━━━━━━━━━━━━━━━━\u001b[0m\u001b[37m\u001b[0m \u001b[1m1s\u001b[0m 7ms/step - loss: 0.0119 - val_loss: 0.0050\n",
      "Epoch 17/20\n",
      "\u001b[1m70/70\u001b[0m \u001b[32m━━━━━━━━━━━━━━━━━━━━\u001b[0m\u001b[37m\u001b[0m \u001b[1m1s\u001b[0m 7ms/step - loss: 0.0090 - val_loss: 0.0040\n",
      "Epoch 18/20\n",
      "\u001b[1m70/70\u001b[0m \u001b[32m━━━━━━━━━━━━━━━━━━━━\u001b[0m\u001b[37m\u001b[0m \u001b[1m1s\u001b[0m 7ms/step - loss: 0.0092 - val_loss: 0.0059\n",
      "Epoch 19/20\n",
      "\u001b[1m70/70\u001b[0m \u001b[32m━━━━━━━━━━━━━━━━━━━━\u001b[0m\u001b[37m\u001b[0m \u001b[1m1s\u001b[0m 7ms/step - loss: 0.0092 - val_loss: 0.0061\n",
      "Epoch 20/20\n",
      "\u001b[1m70/70\u001b[0m \u001b[32m━━━━━━━━━━━━━━━━━━━━\u001b[0m\u001b[37m\u001b[0m \u001b[1m1s\u001b[0m 7ms/step - loss: 0.0092 - val_loss: 0.0047\n"
     ]
    },
    {
     "data": {
      "text/plain": [
       "<keras.src.callbacks.history.History at 0x15d5a6430>"
      ]
     },
     "execution_count": 17,
     "metadata": {},
     "output_type": "execute_result"
    }
   ],
   "source": [
    "model = Sequential()\n",
    "model.add(LSTM(64, activation='relu', input_shape=(n_past, 1)))\n",
    "model.add(Dense(n_future))\n",
    "model.compile(optimizer='adam', loss='mse')\n",
    "model.fit(X_train, y_train, epochs=20, batch_size=16, validation_split=0.1)\n"
   ]
  },
  {
   "cell_type": "code",
   "execution_count": 18,
   "metadata": {
    "colab": {
     "base_uri": "https://localhost:8080/"
    },
    "id": "OKBO_9lWNgnr",
    "outputId": "8a5eed2e-a20f-4ccb-f08c-e084003d2ab1"
   },
   "outputs": [
    {
     "name": "stdout",
     "output_type": "stream",
     "text": [
      "\u001b[1m15/15\u001b[0m \u001b[32m━━━━━━━━━━━━━━━━━━━━\u001b[0m\u001b[37m\u001b[0m \u001b[1m0s\u001b[0m 6ms/step\n"
     ]
    }
   ],
   "source": [
    "# Previsões (em escala normalizada)\n",
    "y_pred_scaled = model.predict(X_test)\n",
    "\n",
    "# Retorna para escala original\n",
    "y_pred = scaler.inverse_transform(y_pred_scaled)\n",
    "y_true = scaler.inverse_transform(y_test)\n",
    "\n",
    "# Pega apenas o último valor previsto (x dias à frente) de cada janela\n",
    "y_pred_final = y_pred[:, -1]\n",
    "y_true_final = y_true[:, -1]\n"
   ]
  },
  {
   "cell_type": "code",
   "execution_count": 19,
   "metadata": {
    "colab": {
     "base_uri": "https://localhost:8080/"
    },
    "id": "OF9S-AtpNj10",
    "outputId": "5e1665ce-4edc-4b0f-d5b6-24ad7174d426"
   },
   "outputs": [
    {
     "name": "stdout",
     "output_type": "stream",
     "text": [
      "MAE: 1.16\n",
      "RMSE: 1.37\n",
      "MAPE: 11.50%\n"
     ]
    }
   ],
   "source": [
    "mae = mean_absolute_error(y_true_final, y_pred_final)\n",
    "rmse = np.sqrt(mean_squared_error(y_true_final, y_pred_final))\n",
    "mape = mean_absolute_percentage_error(y_true_final, y_pred_final) * 100\n",
    "\n",
    "print(f'MAE: {mae:.2f}')\n",
    "print(f'RMSE: {rmse:.2f}')\n",
    "print(f'MAPE: {mape:.2f}%')\n"
   ]
  },
  {
   "cell_type": "code",
   "execution_count": 20,
   "metadata": {
    "colab": {
     "base_uri": "https://localhost:8080/",
     "height": 545
    },
    "id": "SpX3WWcQNvb1",
    "outputId": "76cf7cf1-36a9-4760-b874-77d9ca8e9bcf"
   },
   "outputs": [
    {
     "data": {
      "image/png": "[encoded data removed]",
      "text/plain": [
       "<Figure size 1200x600 with 1 Axes>"
      ]
     },
     "metadata": {},
     "output_type": "display_data"
    }
   ],
   "source": [
    "plt.figure(figsize=(12, 6))\n",
    "plt.plot(y_true_final, label='Real', color='blue')\n",
    "plt.plot(y_pred_final, label='Previsto', color='orange')\n",
    "plt.title(f'Previsão de {n_future} dias à frente')\n",
    "plt.legend()\n",
    "plt.grid(True)\n",
    "plt.show()\n"
   ]
  },
  {
   "cell_type": "code",
   "execution_count": 21,
   "metadata": {
    "id": "xHEzhDIbOXHA"
   },
   "outputs": [],
   "source": [
    "# Últimos n_past dias antes de final_date\n",
    "last_window = df_train[[target_col]].iloc[-n_past:].values\n",
    "last_window_scaled = scaler.transform(last_window)\n",
    "\n",
    "# Formatar para input da LSTM: (1, n_past, 1)\n",
    "X_input = last_window_scaled.reshape((1, n_past, 1))\n"
   ]
  },
  {
   "cell_type": "code",
   "execution_count": 22,
   "metadata": {
    "colab": {
     "base_uri": "https://localhost:8080/"
    },
    "id": "gas_a0eeOR3S",
    "outputId": "2b4cb020-d07b-400b-d647-cfd9f0fd92bb"
   },
   "outputs": [
    {
     "name": "stdout",
     "output_type": "stream",
     "text": [
      "\u001b[1m1/1\u001b[0m \u001b[32m━━━━━━━━━━━━━━━━━━━━\u001b[0m\u001b[37m\u001b[0m \u001b[1m0s\u001b[0m 17ms/step\n",
      "\u001b[1m1/1\u001b[0m \u001b[32m━━━━━━━━━━━━━━━━━━━━\u001b[0m\u001b[37m\u001b[0m \u001b[1m0s\u001b[0m 17ms/step\n",
      "\u001b[1m1/1\u001b[0m \u001b[32m━━━━━━━━━━━━━━━━━━━━\u001b[0m\u001b[37m\u001b[0m \u001b[1m0s\u001b[0m 16ms/step\n",
      "\u001b[1m1/1\u001b[0m \u001b[32m━━━━━━━━━━━━━━━━━━━━\u001b[0m\u001b[37m\u001b[0m \u001b[1m0s\u001b[0m 17ms/step\n",
      "\u001b[1m1/1\u001b[0m \u001b[32m━━━━━━━━━━━━━━━━━━━━\u001b[0m\u001b[37m\u001b[0m \u001b[1m0s\u001b[0m 16ms/step\n",
      "\u001b[1m1/1\u001b[0m \u001b[32m━━━━━━━━━━━━━━━━━━━━\u001b[0m\u001b[37m\u001b[0m \u001b[1m0s\u001b[0m 17ms/step\n",
      "\u001b[1m1/1\u001b[0m \u001b[32m━━━━━━━━━━━━━━━━━━━━\u001b[0m\u001b[37m\u001b[0m \u001b[1m0s\u001b[0m 16ms/step\n",
      "\u001b[1m1/1\u001b[0m \u001b[32m━━━━━━━━━━━━━━━━━━━━\u001b[0m\u001b[37m\u001b[0m \u001b[1m0s\u001b[0m 18ms/step\n",
      "\u001b[1m1/1\u001b[0m \u001b[32m━━━━━━━━━━━━━━━━━━━━\u001b[0m\u001b[37m\u001b[0m \u001b[1m0s\u001b[0m 17ms/step\n",
      "\u001b[1m1/1\u001b[0m \u001b[32m━━━━━━━━━━━━━━━━━━━━\u001b[0m\u001b[37m\u001b[0m \u001b[1m0s\u001b[0m 16ms/step\n",
      "\u001b[1m1/1\u001b[0m \u001b[32m━━━━━━━━━━━━━━━━━━━━\u001b[0m\u001b[37m\u001b[0m \u001b[1m0s\u001b[0m 18ms/step\n",
      "\u001b[1m1/1\u001b[0m \u001b[32m━━━━━━━━━━━━━━━━━━━━\u001b[0m\u001b[37m\u001b[0m \u001b[1m0s\u001b[0m 36ms/step\n",
      "\u001b[1m1/1\u001b[0m \u001b[32m━━━━━━━━━━━━━━━━━━━━\u001b[0m\u001b[37m\u001b[0m \u001b[1m0s\u001b[0m 17ms/step\n",
      "\u001b[1m1/1\u001b[0m \u001b[32m━━━━━━━━━━━━━━━━━━━━\u001b[0m\u001b[37m\u001b[0m \u001b[1m0s\u001b[0m 17ms/step\n",
      "\u001b[1m1/1\u001b[0m \u001b[32m━━━━━━━━━━━━━━━━━━━━\u001b[0m\u001b[37m\u001b[0m \u001b[1m0s\u001b[0m 17ms/step\n",
      "\u001b[1m1/1\u001b[0m \u001b[32m━━━━━━━━━━━━━━━━━━━━\u001b[0m\u001b[37m\u001b[0m \u001b[1m0s\u001b[0m 17ms/step\n",
      "\u001b[1m1/1\u001b[0m \u001b[32m━━━━━━━━━━━━━━━━━━━━\u001b[0m\u001b[37m\u001b[0m \u001b[1m0s\u001b[0m 16ms/step\n",
      "\u001b[1m1/1\u001b[0m \u001b[32m━━━━━━━━━━━━━━━━━━━━\u001b[0m\u001b[37m\u001b[0m \u001b[1m0s\u001b[0m 16ms/step\n",
      "\u001b[1m1/1\u001b[0m \u001b[32m━━━━━━━━━━━━━━━━━━━━\u001b[0m\u001b[37m\u001b[0m \u001b[1m0s\u001b[0m 17ms/step\n",
      "\u001b[1m1/1\u001b[0m \u001b[32m━━━━━━━━━━━━━━━━━━━━\u001b[0m\u001b[37m\u001b[0m \u001b[1m0s\u001b[0m 17ms/step\n",
      "\u001b[1m1/1\u001b[0m \u001b[32m━━━━━━━━━━━━━━━━━━━━\u001b[0m\u001b[37m\u001b[0m \u001b[1m0s\u001b[0m 16ms/step\n",
      "\u001b[1m1/1\u001b[0m \u001b[32m━━━━━━━━━━━━━━━━━━━━\u001b[0m\u001b[37m\u001b[0m \u001b[1m0s\u001b[0m 17ms/step\n",
      "\u001b[1m1/1\u001b[0m \u001b[32m━━━━━━━━━━━━━━━━━━━━\u001b[0m\u001b[37m\u001b[0m \u001b[1m0s\u001b[0m 17ms/step\n",
      "\u001b[1m1/1\u001b[0m \u001b[32m━━━━━━━━━━━━━━━━━━━━\u001b[0m\u001b[37m\u001b[0m \u001b[1m0s\u001b[0m 17ms/step\n",
      "\u001b[1m1/1\u001b[0m \u001b[32m━━━━━━━━━━━━━━━━━━━━\u001b[0m\u001b[37m\u001b[0m \u001b[1m0s\u001b[0m 16ms/step\n",
      "\u001b[1m1/1\u001b[0m \u001b[32m━━━━━━━━━━━━━━━━━━━━\u001b[0m\u001b[37m\u001b[0m \u001b[1m0s\u001b[0m 15ms/step\n",
      "\u001b[1m1/1\u001b[0m \u001b[32m━━━━━━━━━━━━━━━━━━━━\u001b[0m\u001b[37m\u001b[0m \u001b[1m0s\u001b[0m 16ms/step\n",
      "\u001b[1m1/1\u001b[0m \u001b[32m━━━━━━━━━━━━━━━━━━━━\u001b[0m\u001b[37m\u001b[0m \u001b[1m0s\u001b[0m 17ms/step\n",
      "\u001b[1m1/1\u001b[0m \u001b[32m━━━━━━━━━━━━━━━━━━━━\u001b[0m\u001b[37m\u001b[0m \u001b[1m0s\u001b[0m 17ms/step\n",
      "\u001b[1m1/1\u001b[0m \u001b[32m━━━━━━━━━━━━━━━━━━━━\u001b[0m\u001b[37m\u001b[0m \u001b[1m0s\u001b[0m 17ms/step\n"
     ]
    }
   ],
   "source": [
    "n_days_ahead = 30  # por exemplo, x = 5\n",
    "\n",
    "# Começa com a janela de entrada atual\n",
    "input_seq = last_window_scaled.copy().reshape((1, n_past, 1))\n",
    "\n",
    "predictions_scaled = []\n",
    "\n",
    "for _ in range(n_days_ahead):\n",
    "    pred = model.predict(input_seq)[0][-1]  # pega último output\n",
    "    predictions_scaled.append(pred)\n",
    "\n",
    "    # Atualiza a janela com o novo valor previsto\n",
    "    new_input = np.append(input_seq[0, 1:, 0], pred)  # remove primeiro, adiciona o novo\n",
    "    input_seq = new_input.reshape((1, n_past, 1))\n"
   ]
  },
  {
   "cell_type": "code",
   "execution_count": 29,
   "metadata": {
    "colab": {
     "base_uri": "https://localhost:8080/"
    },
    "id": "2mKGFeNPOeDx",
    "outputId": "c64ba94d-8f28-49ff-fb43-d06ea4818ba4"
   },
   "outputs": [
    {
     "name": "stdout",
     "output_type": "stream",
     "text": [
      "[[0.5509609 ]\n",
      " [0.5384507 ]\n",
      " [0.5277057 ]\n",
      " [0.51763785]\n",
      " [0.5087518 ]\n",
      " [0.50066644]\n",
      " [0.493006  ]\n",
      " [0.48570198]\n",
      " [0.4790824 ]\n",
      " [0.47284836]\n",
      " [0.46635586]\n",
      " [0.4597531 ]\n",
      " [0.4535873 ]\n",
      " [0.44796956]\n",
      " [0.44253027]\n",
      " [0.43776935]\n",
      " [0.43330103]\n",
      " [0.4290349 ]\n",
      " [0.42488545]\n",
      " [0.42076832]\n",
      " [0.416533  ]\n",
      " [0.41273057]\n",
      " [0.40938127]\n",
      " [0.4069752 ]\n",
      " [0.40525508]\n",
      " [0.40383375]\n",
      " [0.40243065]\n",
      " [0.40124333]\n",
      " [0.4007628 ]\n",
      " [0.40101612]]\n",
      "[[10.819351 ]\n",
      " [10.666991 ]\n",
      " [10.536129 ]\n",
      " [10.413513 ]\n",
      " [10.305291 ]\n",
      " [10.2068205]\n",
      " [10.113525 ]\n",
      " [10.02457  ]\n",
      " [ 9.943952 ]\n",
      " [ 9.868028 ]\n",
      " [ 9.788957 ]\n",
      " [ 9.708542 ]\n",
      " [ 9.63345  ]\n",
      " [ 9.565032 ]\n",
      " [ 9.498788 ]\n",
      " [ 9.4408045]\n",
      " [ 9.386386 ]\n",
      " [ 9.334429 ]\n",
      " [ 9.283894 ]\n",
      " [ 9.233751 ]\n",
      " [ 9.18217  ]\n",
      " [ 9.13586  ]\n",
      " [ 9.09507  ]\n",
      " [ 9.065766 ]\n",
      " [ 9.044818 ]\n",
      " [ 9.027507 ]\n",
      " [ 9.010419 ]\n",
      " [ 8.995959 ]\n",
      " [ 8.990107 ]\n",
      " [ 8.993192 ]]\n",
      "Previsão para o dia 1 após 2023-03-31 00:00:00: 10.82\n",
      "Previsão para o dia 2 após 2023-03-31 00:00:00: 10.67\n",
      "Previsão para o dia 3 após 2023-03-31 00:00:00: 10.54\n",
      "Previsão para o dia 4 após 2023-03-31 00:00:00: 10.41\n",
      "Previsão para o dia 5 após 2023-03-31 00:00:00: 10.31\n",
      "Previsão para o dia 6 após 2023-03-31 00:00:00: 10.21\n",
      "Previsão para o dia 7 após 2023-03-31 00:00:00: 10.11\n",
      "Previsão para o dia 8 após 2023-03-31 00:00:00: 10.02\n",
      "Previsão para o dia 9 após 2023-03-31 00:00:00: 9.94\n",
      "Previsão para o dia 10 após 2023-03-31 00:00:00: 9.87\n",
      "Previsão para o dia 11 após 2023-03-31 00:00:00: 9.79\n",
      "Previsão para o dia 12 após 2023-03-31 00:00:00: 9.71\n",
      "Previsão para o dia 13 após 2023-03-31 00:00:00: 9.63\n",
      "Previsão para o dia 14 após 2023-03-31 00:00:00: 9.57\n",
      "Previsão para o dia 15 após 2023-03-31 00:00:00: 9.50\n",
      "Previsão para o dia 16 após 2023-03-31 00:00:00: 9.44\n",
      "Previsão para o dia 17 após 2023-03-31 00:00:00: 9.39\n",
      "Previsão para o dia 18 após 2023-03-31 00:00:00: 9.33\n",
      "Previsão para o dia 19 após 2023-03-31 00:00:00: 9.28\n",
      "Previsão para o dia 20 após 2023-03-31 00:00:00: 9.23\n",
      "Previsão para o dia 21 após 2023-03-31 00:00:00: 9.18\n",
      "Previsão para o dia 22 após 2023-03-31 00:00:00: 9.14\n",
      "Previsão para o dia 23 após 2023-03-31 00:00:00: 9.10\n",
      "Previsão para o dia 24 após 2023-03-31 00:00:00: 9.07\n",
      "Previsão para o dia 25 após 2023-03-31 00:00:00: 9.04\n",
      "Previsão para o dia 26 após 2023-03-31 00:00:00: 9.03\n",
      "Previsão para o dia 27 após 2023-03-31 00:00:00: 9.01\n",
      "Previsão para o dia 28 após 2023-03-31 00:00:00: 9.00\n",
      "Previsão para o dia 29 após 2023-03-31 00:00:00: 8.99\n",
      "Previsão para o dia 30 após 2023-03-31 00:00:00: 8.99\n"
     ]
    }
   ],
   "source": [
    "# Transforma array e reescala\n",
    "predictions_scaled = np.array(predictions_scaled).reshape(-1, 1)\n",
    "predictions = scaler.inverse_transform(predictions_scaled)\n",
    "print(predictions_scaled)\n",
    "print(predictions)\n",
    "# Resultado final\n",
    "for i, val in enumerate(predictions):\n",
    "    print(f\"Previsão para o dia {i+1} após {final_date}: {val[0]:.2f}\")\n"
   ]
  },
  {
   "cell_type": "code",
   "execution_count": 24,
   "metadata": {
    "id": "-CiXgmccVXCL"
   },
   "outputs": [],
   "source": [
    "x = 30"
   ]
  },
  {
   "cell_type": "code",
   "execution_count": 25,
   "metadata": {
    "colab": {
     "base_uri": "https://localhost:8080/"
    },
    "id": "UsRwWJOcVSve",
    "outputId": "9e419934-865a-4ea1-873e-1d21cc1a8d59"
   },
   "outputs": [
    {
     "name": "stdout",
     "output_type": "stream",
     "text": [
      "MAE: 2.53 | RMSE: 2.56 | MAPE: 20.76%\n"
     ]
    }
   ],
   "source": [
    "# Exemplo: suponha que você tem os preços reais em df_test\n",
    "real_values = df_test[[target_col]].iloc[:x].values  # x primeiros dias do futuro\n",
    "real_values = real_values[:len(predictions)]\n",
    "\n",
    "# Avaliação\n",
    "mae = mean_absolute_error(real_values, predictions)\n",
    "rmse = np.sqrt(mean_squared_error(real_values, predictions))\n",
    "mape = mean_absolute_percentage_error(real_values, predictions) * 100\n",
    "\n",
    "print(f'MAE: {mae:.2f} | RMSE: {rmse:.2f} | MAPE: {mape:.2f}%')\n"
   ]
  },
  {
   "cell_type": "code",
   "execution_count": 26,
   "metadata": {
    "colab": {
     "base_uri": "https://localhost:8080/"
    },
    "id": "E9y1WizPJAKK",
    "outputId": "97a1ff8c-f191-46a3-ef63-899365871751"
   },
   "outputs": [
    {
     "data": {
      "text/plain": [
       "array([[13.038064  ],\n",
       "       [12.62415695],\n",
       "       [12.56621075],\n",
       "       [12.49998665],\n",
       "       [12.72349548],\n",
       "       [13.59269905],\n",
       "       [13.44369221],\n",
       "       [13.28640747],\n",
       "       [13.21190548],\n",
       "       [12.98011971],\n",
       "       [13.0546217 ],\n",
       "       [12.39237022],\n",
       "       [12.18541622],\n",
       "       [11.8129015 ],\n",
       "       [11.70528507],\n",
       "       [11.3907156 ],\n",
       "       [11.49833202],\n",
       "       [11.8625679 ],\n",
       "       [11.92879391],\n",
       "       [11.75495338],\n",
       "       [11.39899349],\n",
       "       [11.41555023],\n",
       "       [11.05959034],\n",
       "       [11.50660801],\n",
       "       [11.50660801],\n",
       "       [11.67217255],\n",
       "       [11.58939075],\n",
       "       [11.34932518],\n",
       "       [11.40727043],\n",
       "       [11.65561485]])"
      ]
     },
     "execution_count": 26,
     "metadata": {},
     "output_type": "execute_result"
    }
   ],
   "source": [
    "real_values"
   ]
  },
  {
   "cell_type": "code",
   "execution_count": 27,
   "metadata": {},
   "outputs": [
    {
     "data": {
      "text/plain": [
       "array([[10.819351 ],\n",
       "       [10.666991 ],\n",
       "       [10.536129 ],\n",
       "       [10.413513 ],\n",
       "       [10.305291 ],\n",
       "       [10.2068205],\n",
       "       [10.113525 ],\n",
       "       [10.02457  ],\n",
       "       [ 9.943952 ],\n",
       "       [ 9.868028 ],\n",
       "       [ 9.788957 ],\n",
       "       [ 9.708542 ],\n",
       "       [ 9.63345  ],\n",
       "       [ 9.565032 ],\n",
       "       [ 9.498788 ],\n",
       "       [ 9.4408045],\n",
       "       [ 9.386386 ],\n",
       "       [ 9.334429 ],\n",
       "       [ 9.283894 ],\n",
       "       [ 9.233751 ],\n",
       "       [ 9.18217  ],\n",
       "       [ 9.13586  ],\n",
       "       [ 9.09507  ],\n",
       "       [ 9.065766 ],\n",
       "       [ 9.044818 ],\n",
       "       [ 9.027507 ],\n",
       "       [ 9.010419 ],\n",
       "       [ 8.995959 ],\n",
       "       [ 8.990107 ],\n",
       "       [ 8.993192 ]], dtype=float32)"
      ]
     },
     "execution_count": 27,
     "metadata": {},
     "output_type": "execute_result"
    }
   ],
   "source": [
    "predictions"
   ]
  },
  {
   "cell_type": "code",
   "execution_count": 28,
   "metadata": {
    "colab": {
     "base_uri": "https://localhost:8080/"
    },
    "id": "mrTbB5vFI9Nl",
    "outputId": "a581e54a-5455-4909-a305-4f842c9a2329"
   },
   "outputs": [
    {
     "name": "stderr",
     "output_type": "stream",
     "text": [
      "WARNING:absl:You are saving your model as an HDF5 file via `model.save()` or `keras.saving.save_model(model)`. This file format is considered legacy. We recommend using instead the native Keras format, e.g. `model.save('my_model.keras')` or `keras.saving.save_model(model, 'my_model.keras')`. \n"
     ]
    }
   ],
   "source": [
    "model.save(f'app/models/general_lstm.h5')\n"
   ]
  },
  {
   "cell_type": "code",
   "execution_count": null,
   "metadata": {},
   "outputs": [],
   "source": []
  }
 ],
 "metadata": {
  "colab": {
   "provenance": []
  },
  "kernelspec": {
   "display_name": "Python 3 (ipykernel)",
   "language": "python",
   "name": "python3"
  },
  "language_info": {
   "codemirror_mode": {
    "name": "ipython",
    "version": 3
   },
   "file_extension": ".py",
   "mimetype": "text/x-python",
   "name": "python",
   "nbconvert_exporter": "python",
   "pygments_lexer": "ipython3",
   "version": "3.9.23"
  }
 },
 "nbformat": 4,
 "nbformat_minor": 4
}
